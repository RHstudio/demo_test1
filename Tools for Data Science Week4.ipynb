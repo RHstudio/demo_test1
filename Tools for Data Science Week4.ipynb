{
 "cells": [
  {
   "cell_type": "markdown",
   "id": "67b0f04a-62e4-4473-9cfb-ca359c49e693",
   "metadata": {},
   "source": [
    "<h1>My Jupyter Notebook on IBM Watson Studio</h1>"
   ]
  },
  {
   "cell_type": "markdown",
   "id": "96c3c2e1-b4b0-4320-8a29-52ba5564faa2",
   "metadata": {},
   "source": [
    "<p><b>Stella</b></p>\n",
    "Technical Program Manager"
   ]
  },
  {
   "cell_type": "markdown",
   "id": "74c16fd7-5f6b-48f0-911d-af86d4fa65ae",
   "metadata": {},
   "source": [
    "<i> I am interested in data science becaise I like mathmatics and have programming skills</i>"
   ]
  },
  {
   "cell_type": "markdown",
   "id": "d67e79aa-b93d-460e-9e54-7e879c76d5b0",
   "metadata": {},
   "source": [
    "<h3>I am using python code for 1+1=2 </h3>"
   ]
  },
  {
   "cell_type": "code",
   "execution_count": 13,
   "id": "9ee28ea8-d4ce-46dc-b2aa-1aec8ebc2fe8",
   "metadata": {},
   "outputs": [
    {
     "data": {
      "text/plain": [
       "2"
      ]
     },
     "execution_count": 13,
     "metadata": {},
     "output_type": "execute_result"
    }
   ],
   "source": [
    "1+1"
   ]
  },
  {
   "cell_type": "markdown",
   "id": "1dd925cc-94df-41b2-8aec-c80836f9b292",
   "metadata": {
    "jp-MarkdownHeadingCollapsed": true,
    "tags": []
   },
   "source": [
    "<table>\n",
    "  <tr>\n",
    "    <th><h3>item</h3></th>\n",
    "    <th><h3>price</h3></th>\n",
    "  </tr>\n",
    "  <tr>\n",
    "    <td><a href=\"https://www.google.com/search?q=americano&source=lmns&bih=865&biw=1564&rlz=1C1CHBF_enUS880US886&hl=en&sa=X&ved=2ahUKEwjL6-OT0ZH9AhWmOkQIHVUeATMQ_AUoAHoECAEQAA\">Americano</a></td>\n",
    "    <td> 4.5</td>\n",
    "  </tr>\n",
    "  <tr>\n",
    "    <td>Latte</td>\n",
    "    <td> 5.5</td>\n",
    "  </tr> \n",
    "</table>"
   ]
  },
  {
   "cell_type": "code",
   "execution_count": null,
   "id": "69abb58e-213a-4e19-99d3-a628ca1dd4e9",
   "metadata": {},
   "outputs": [],
   "source": []
  }
 ],
 "metadata": {
  "kernelspec": {
   "display_name": "Python 3 (ipykernel)",
   "language": "python",
   "name": "python3"
  },
  "language_info": {
   "codemirror_mode": {
    "name": "ipython",
    "version": 3
   },
   "file_extension": ".py",
   "mimetype": "text/x-python",
   "name": "python",
   "nbconvert_exporter": "python",
   "pygments_lexer": "ipython3",
   "version": "3.9.7"
  }
 },
 "nbformat": 4,
 "nbformat_minor": 5
}
